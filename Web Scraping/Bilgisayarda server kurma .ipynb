{
 "cells": [
  {
   "cell_type": "code",
   "execution_count": null,
   "id": "737ca2aa",
   "metadata": {},
   "outputs": [],
   "source": [
    "!python -m http.server 8000"
   ]
  },
  {
   "cell_type": "code",
   "execution_count": null,
   "id": "2df4f3f0",
   "metadata": {},
   "outputs": [],
   "source": [
    "# Bilgisayarimizda server kurduk bu dosyadaki html dosyasini localhost 8000 de okuyabilir"
   ]
  },
  {
   "cell_type": "code",
   "execution_count": null,
   "id": "c10b6c3e",
   "metadata": {},
   "outputs": [],
   "source": []
  }
 ],
 "metadata": {
  "kernelspec": {
   "display_name": "Python 3 (ipykernel)",
   "language": "python",
   "name": "python3"
  },
  "language_info": {
   "codemirror_mode": {
    "name": "ipython",
    "version": 3
   },
   "file_extension": ".py",
   "mimetype": "text/x-python",
   "name": "python",
   "nbconvert_exporter": "python",
   "pygments_lexer": "ipython3",
   "version": "3.9.12"
  }
 },
 "nbformat": 4,
 "nbformat_minor": 5
}
