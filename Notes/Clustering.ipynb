{
 "cells": [
  {
   "cell_type": "markdown",
   "id": "349fc458",
   "metadata": {},
   "source": [
    "# Clustering"
   ]
  },
  {
   "cell_type": "code",
   "execution_count": null,
   "id": "c9b23afb",
   "metadata": {},
   "outputs": [],
   "source": [
    "import pandas as pd\n",
    "import numpy as np\n",
    "import matplotlib.pyplot as plt\n",
    "%matplotlib inline\n",
    "import seaborn as sns\n",
    "import warnings\n",
    "warnings.filterwarnings(\"ignore\")\n",
    "\n",
    "from sklearn.cluster import KMeans\n",
    "from sklearn.metrics import silhouette_score\n",
    "\n",
    "pd.set_option(\"display.max_columns\",100)\n",
    "pd.set_option(\"display.max_rows\",100)"
   ]
  },
  {
   "cell_type": "code",
   "execution_count": null,
   "id": "10b72918",
   "metadata": {},
   "outputs": [],
   "source": [
    "x=pd.get_dummies(df,drop_first=True)"
   ]
  },
  {
   "cell_type": "code",
   "execution_count": null,
   "id": "74ea73a2",
   "metadata": {},
   "outputs": [],
   "source": [
    "allscore=[]\n",
    "allclusters=[]\n",
    "sum_of_squared_distances = []\n",
    "preds=[]\n",
    "def clust(clusters):\n",
    "    for no_of_cluster in np.arange(1,clusters):\n",
    "        \n",
    "        no_of_cluster+=1\n",
    "        model=KMeans(n_clusters=no_of_cluster)\n",
    "        #model-model fit(x) \n",
    "        pred=model.fit_predict(x)\n",
    "        sum_of_squared_distances.append(model.inertia_)\n",
    "        score=silhouette_score(x,pred)\n",
    "        print (\"Number of cluster {}, silhouette {}\".format(no_of_cluster,score))\n",
    "        allscore.append(score)\n",
    "        allclusters.append(no_of_cluster)\n",
    "        preds.append(pred)"
   ]
  },
  {
   "cell_type": "code",
   "execution_count": null,
   "id": "96a0aacf",
   "metadata": {},
   "outputs": [],
   "source": [
    "all_score=[]\n",
    "all_clusters=[]\n",
    "sum_of_squared_distances=[]\n",
    "predicts=[]\n",
    "def cluster(clusters):\n",
    "    for i in np.arange(2,clusters):\n",
    "        K=KMeans(n_clusters=i)\n",
    "        K.fit(x)\n",
    "        predict_kmeans=K.predict(x)\n",
    "        score=silhouette_score(x,predict_kmeans)\n",
    "        all_score.append(score)\n",
    "        all_clusters.append(i)\n",
    "        sum_of_squared_distances.append(K.inertia_)\n",
    "        predicts.append(predict_kmeans)\n",
    "        print(f\"cluster={i}, score={score}\")   "
   ]
  }
 ],
 "metadata": {
  "kernelspec": {
   "display_name": "Python 3 (ipykernel)",
   "language": "python",
   "name": "python3"
  },
  "language_info": {
   "codemirror_mode": {
    "name": "ipython",
    "version": 3
   },
   "file_extension": ".py",
   "mimetype": "text/x-python",
   "name": "python",
   "nbconvert_exporter": "python",
   "pygments_lexer": "ipython3",
   "version": "3.9.12"
  }
 },
 "nbformat": 4,
 "nbformat_minor": 5
}
