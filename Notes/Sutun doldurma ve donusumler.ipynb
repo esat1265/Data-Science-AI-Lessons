{
 "cells": [
  {
   "cell_type": "markdown",
   "id": "75d28c38",
   "metadata": {},
   "source": [
    "## Sutun doldurma ve donusumler"
   ]
  },
  {
   "cell_type": "code",
   "execution_count": null,
   "id": "bcdb6855",
   "metadata": {},
   "outputs": [],
   "source": [
    "# ortalama değer ile doldurma\n",
    "df['Credit Score'].fillna(df['Credit Score'].mean(),inplace=True)"
   ]
  },
  {
   "cell_type": "code",
   "execution_count": null,
   "id": "e8c3a868",
   "metadata": {},
   "outputs": [],
   "source": [
    "#boş yerleri 0 değeri ile doldurma\n",
    "df['Months since last delinquent'].fillna(\"0\",inplace=True)\n",
    "#Degerlerin float dan int değerlere dönüştürüldü\n",
    "df['Months since last delinquent']=df['Months since last delinquent'].astype(int)"
   ]
  },
  {
   "cell_type": "code",
   "execution_count": null,
   "id": "27fadb2e",
   "metadata": {},
   "outputs": [],
   "source": [
    "#sayi sembol ve noktalama işaretleri kaldırıldı\n",
    "df['Years in current job'].replace('[^0-9]',\"\",inplace=True,regex=True)"
   ]
  },
  {
   "cell_type": "code",
   "execution_count": null,
   "id": "0146ebe3",
   "metadata": {},
   "outputs": [],
   "source": [
    "#butun rakam ve isaretler 0 ile degistirildi\n",
    "df['Maximum Open Credit'].replace('[a-zA-Z@_!#$%^&*()<>?/\\|}{~:]',\"0\",inplace=True,regex=True)\n",
    "#değerleri float türüne çevrildi\n",
    "df['Maximum Open Credit']=df['Maximum Open Credit'].astype(float)"
   ]
  },
  {
   "cell_type": "code",
   "execution_count": null,
   "id": "dec6c66d",
   "metadata": {},
   "outputs": [],
   "source": [
    "#farkli yazilmis sutunlari duzeltme aynilarini yazma\n",
    "df['Home Ownership'].replace(['HaveMortgage','Home Mortgage'],'Mortgage',inplace=True)"
   ]
  },
  {
   "cell_type": "code",
   "execution_count": null,
   "id": "2e278fcb",
   "metadata": {},
   "outputs": [],
   "source": [
    "# Lambda fonksyonu bir kerelik tanimlanan bir fonksiyon,map ile senior sutununa age sutunu tek tek gezilerek lambda fonk uygulandi.s degeri 70 den buyuk ise 1 degilse 0 ile degistirildi\n",
    "df['Senior']=df['Age'].map(lambda s:1 if s>70 else 0)"
   ]
  },
  {
   "cell_type": "code",
   "execution_count": null,
   "id": "5dc9b764",
   "metadata": {},
   "outputs": [],
   "source": [
    "# groupy gruplama yapmak=\n",
    "df['Age'].fillna(df.groupby('Title')['Age'].transform('median'),inplace=True)# yas sutununu title gore grupla ve yas ortalamasina gore boslari dolrdur\n",
    "df.groupby('Title')['Age'].median() # yas ortalamalarina gore basliklari grupla"
   ]
  },
  {
   "cell_type": "code",
   "execution_count": null,
   "id": "38471929",
   "metadata": {},
   "outputs": [],
   "source": [
    "df['Family']=df['SibSp']+df['Parch']+1 #aileyi annebaba ve kendisi ile doldurduk===sutunlari ekleme"
   ]
  },
  {
   "cell_type": "code",
   "execution_count": null,
   "id": "a1363a21",
   "metadata": {},
   "outputs": [],
   "source": [
    "#sutun silme- tum sutunlardan ticket sutununu cikarma\n",
    "df.drop(['Ticket'],axis=1,inplace=True)"
   ]
  },
  {
   "cell_type": "code",
   "execution_count": null,
   "id": "d55887e3",
   "metadata": {},
   "outputs": [],
   "source": [
    "#891 sutuna kadar al ve survivedi cikar\n",
    "x=df[:891].drop('Survived',axis=1)\n",
    "y=df[:891][['Survived']] # survived olani al\n",
    "x,y=df[:891].drop('Survived',axis=1),df[:891][['Survived']] # tek satirda yazma"
   ]
  },
  {
   "cell_type": "code",
   "execution_count": null,
   "id": "5834c096",
   "metadata": {},
   "outputs": [],
   "source": [
    "#Years in current job (10+ years) de bulunan years ve noktalama işaretleri kaldırıldı\n",
    "df['Years in current job'].replace('[^0-9]',\"\",inplace=True,regex=True)\n",
    "#ve null olan alanlara 0 değeri atandı\n",
    "df['Years in current job'].fillna('0',inplace=True)\n",
    "#Years in current job int değerine çevrildi\n",
    "df['Years in current job']=df['Years in current job'].astype(int)\n",
    "#Daha önce 0 atanan değerlere ortalama bir değer atanarak gerçeklik sağlandı\n",
    "#Years in current job int değerine çevrildi\n",
    "df['Years in current job']=df['Years in current job'].astype(int)\n",
    "#Daha önce 0 atanan değerlere ortalama bir değer atanarak gerçeklik sağlandı\n",
    "df['Years in current job'].replace('0',df['Years in current job'].mean(),inplace=True)"
   ]
  },
  {
   "cell_type": "code",
   "execution_count": null,
   "id": "354c4548",
   "metadata": {},
   "outputs": [],
   "source": [
    "#Maximum Open Credit object halinde bu değerleri float türüne çevrildi\n",
    "df['Maximum Open Credit'].replace('[a-zA-Z@_!#$%^&*()<>?/\\|}{~:]',\"0\",inplace=True,regex=True)\n",
    "df['Maximum Open Credit']=df['Maximum Open Credit'].astype(float)"
   ]
  },
  {
   "cell_type": "code",
   "execution_count": null,
   "id": "2cf91e25",
   "metadata": {},
   "outputs": [],
   "source": [
    "# dictionary: sozluk\n",
    "#kelime aciklama-tanimlama kullanrrak kelimeyi pythonda degistireegiz\n",
    "d={\"Yes\":1,\"No\":0}\n",
    "\n",
    "df['Attrition']=df['Attrition'].map(d)\n",
    "# map for dongusunun modern hali"
   ]
  },
  {
   "cell_type": "code",
   "execution_count": null,
   "id": "932678e3",
   "metadata": {},
   "outputs": [],
   "source": [
    "x = pd.concat([df1,df2],axis=1) # iki tabloyu yan yana birlestirme"
   ]
  },
  {
   "cell_type": "code",
   "execution_count": null,
   "id": "cb2375d9",
   "metadata": {},
   "outputs": [],
   "source": [
    "# Bu yol ile de degerleri degistirebiliriz fit ile kendisi degerleri degistiriyor\n",
    "# Sex sutununu kendisi otomatik olarak degistirip dolduruyor\n",
    "\n",
    "from sklearn.preprocessing import LabelEncoder\n",
    "\n",
    "le = LabelEncoder()\n",
    "df['sex'] = le.fit_transform(df['sex'])"
   ]
  },
  {
   "cell_type": "code",
   "execution_count": null,
   "id": "ce65b784",
   "metadata": {},
   "outputs": [],
   "source": []
  }
 ],
 "metadata": {
  "kernelspec": {
   "display_name": "Python 3 (ipykernel)",
   "language": "python",
   "name": "python3"
  },
  "language_info": {
   "codemirror_mode": {
    "name": "ipython",
    "version": 3
   },
   "file_extension": ".py",
   "mimetype": "text/x-python",
   "name": "python",
   "nbconvert_exporter": "python",
   "pygments_lexer": "ipython3",
   "version": "3.9.12"
  }
 },
 "nbformat": 4,
 "nbformat_minor": 5
}
