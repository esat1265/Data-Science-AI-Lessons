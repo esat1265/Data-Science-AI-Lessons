{
 "cells": [
  {
   "cell_type": "markdown",
   "id": "2b359536",
   "metadata": {},
   "source": [
    "### Deep Learning- MNIST data set- 60 bin el yazmasi rakami tanima"
   ]
  },
  {
   "cell_type": "markdown",
   "id": "526f11fd",
   "metadata": {},
   "source": [
    "### Verileri Normallestirme / Olceklendirme"
   ]
  },
  {
   "cell_type": "code",
   "execution_count": 2,
   "id": "4b3e7457",
   "metadata": {},
   "outputs": [],
   "source": [
    "import pandas as pd"
   ]
  },
  {
   "cell_type": "code",
   "execution_count": 3,
   "id": "b59e295c",
   "metadata": {
    "scrolled": true
   },
   "outputs": [],
   "source": [
    "df = pd.read_csv(\"heightweight.csv\")"
   ]
  },
  {
   "cell_type": "code",
   "execution_count": 4,
   "id": "a2d4efa5",
   "metadata": {},
   "outputs": [
    {
     "data": {
      "text/html": [
       "<div>\n",
       "<style scoped>\n",
       "    .dataframe tbody tr th:only-of-type {\n",
       "        vertical-align: middle;\n",
       "    }\n",
       "\n",
       "    .dataframe tbody tr th {\n",
       "        vertical-align: top;\n",
       "    }\n",
       "\n",
       "    .dataframe thead th {\n",
       "        text-align: right;\n",
       "    }\n",
       "</style>\n",
       "<table border=\"1\" class=\"dataframe\">\n",
       "  <thead>\n",
       "    <tr style=\"text-align: right;\">\n",
       "      <th></th>\n",
       "      <th>gender</th>\n",
       "      <th>ageYear</th>\n",
       "      <th>ageMonth</th>\n",
       "      <th>HeightIn</th>\n",
       "      <th>WeightLB</th>\n",
       "    </tr>\n",
       "  </thead>\n",
       "  <tbody>\n",
       "    <tr>\n",
       "      <th>0</th>\n",
       "      <td>f</td>\n",
       "      <td>11.91667</td>\n",
       "      <td>143</td>\n",
       "      <td>56.3</td>\n",
       "      <td>85.0</td>\n",
       "    </tr>\n",
       "    <tr>\n",
       "      <th>1</th>\n",
       "      <td>f</td>\n",
       "      <td>12.91667</td>\n",
       "      <td>155</td>\n",
       "      <td>62.3</td>\n",
       "      <td>105.0</td>\n",
       "    </tr>\n",
       "    <tr>\n",
       "      <th>2</th>\n",
       "      <td>f</td>\n",
       "      <td>12.75000</td>\n",
       "      <td>153</td>\n",
       "      <td>63.3</td>\n",
       "      <td>108.0</td>\n",
       "    </tr>\n",
       "    <tr>\n",
       "      <th>3</th>\n",
       "      <td>f</td>\n",
       "      <td>13.41667</td>\n",
       "      <td>161</td>\n",
       "      <td>59.0</td>\n",
       "      <td>92.0</td>\n",
       "    </tr>\n",
       "    <tr>\n",
       "      <th>4</th>\n",
       "      <td>f</td>\n",
       "      <td>15.91667</td>\n",
       "      <td>191</td>\n",
       "      <td>62.5</td>\n",
       "      <td>112.5</td>\n",
       "    </tr>\n",
       "  </tbody>\n",
       "</table>\n",
       "</div>"
      ],
      "text/plain": [
       "  gender   ageYear  ageMonth  HeightIn  WeightLB\n",
       "0      f  11.91667       143      56.3      85.0\n",
       "1      f  12.91667       155      62.3     105.0\n",
       "2      f  12.75000       153      63.3     108.0\n",
       "3      f  13.41667       161      59.0      92.0\n",
       "4      f  15.91667       191      62.5     112.5"
      ]
     },
     "execution_count": 4,
     "metadata": {},
     "output_type": "execute_result"
    }
   ],
   "source": [
    "df.head()"
   ]
  },
  {
   "cell_type": "code",
   "execution_count": 5,
   "id": "0223f3ab",
   "metadata": {},
   "outputs": [],
   "source": [
    "# 1pound = 453 gr"
   ]
  },
  {
   "cell_type": "code",
   "execution_count": 7,
   "id": "49be1539",
   "metadata": {},
   "outputs": [],
   "source": [
    "import seaborn as sns"
   ]
  },
  {
   "cell_type": "code",
   "execution_count": null,
   "id": "01056630",
   "metadata": {},
   "outputs": [],
   "source": []
  }
 ],
 "metadata": {
  "kernelspec": {
   "display_name": "Python 3 (ipykernel)",
   "language": "python",
   "name": "python3"
  },
  "language_info": {
   "codemirror_mode": {
    "name": "ipython",
    "version": 3
   },
   "file_extension": ".py",
   "mimetype": "text/x-python",
   "name": "python",
   "nbconvert_exporter": "python",
   "pygments_lexer": "ipython3",
   "version": "3.9.12"
  }
 },
 "nbformat": 4,
 "nbformat_minor": 5
}
